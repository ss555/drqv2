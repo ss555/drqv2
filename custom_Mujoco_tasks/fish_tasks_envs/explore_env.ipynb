{
 "cells": [
  {
   "cell_type": "code",
   "execution_count": 22,
   "metadata": {
    "collapsed": true,
    "pycharm": {
     "name": "#%%\n"
    }
   },
   "outputs": [
    {
     "name": "stdout",
     "output_type": "stream",
     "text": [
      "The autoreload extension is already loaded. To reload it, use:\n",
      "  %reload_ext autoreload\n"
     ]
    }
   ],
   "source": [
    "from IPython import display\n",
    "%matplotlib inline\n",
    "import matplotlib as mpl\n",
    "import matplotlib.pyplot as plt\n",
    "import numpy as np\n",
    "import torch\n",
    "import omegaconf\n",
    "\n",
    "import mbrl.env.cartpole_continuous as cartpole_env\n",
    "import mbrl.env.reward_fns as reward_fns\n",
    "import mbrl.env.termination_fns as termination_fns\n",
    "import mbrl.models as models\n",
    "import mbrl.planning as planning\n",
    "import mbrl.util.common as common_util\n",
    "import mbrl.util as util\n",
    "from rlutils.fishEnvs import Fish_ammorti\n",
    "from deep_rlutils.env_wrappers import FishMovingRenderWrapper\n",
    "from gym.wrappers import TimeLimit\n",
    "from IPython.display import Video\n",
    "import cv2\n",
    "%load_ext autoreload\n",
    "%autoreload 2\n",
    "\n",
    "mpl.rcParams.update({\"font.size\": 16})\n",
    "\n",
    "device = 'cuda:0' if torch.cuda.is_available() else 'cpu'"
   ]
  },
  {
   "cell_type": "code",
   "execution_count": 23,
   "outputs": [
    {
     "ename": "FileNotFoundError",
     "evalue": "[Errno 2] No such file or directory: '/home/sardor/1-THESE/4-sample_code/00-current/mbrl-lib/fish/fish_tasks/fish/fish_tasks/fishD.xml'",
     "output_type": "error",
     "traceback": [
      "\u001B[0;31m---------------------------------------------------------------------------\u001B[0m",
      "\u001B[0;31mFileNotFoundError\u001B[0m                         Traceback (most recent call last)",
      "Input \u001B[0;32mIn [23]\u001B[0m, in \u001B[0;36m<cell line: 3>\u001B[0;34m()\u001B[0m\n\u001B[1;32m      1\u001B[0m \u001B[38;5;28;01mimport\u001B[39;00m \u001B[38;5;21;01mfishD\u001B[39;00m\n\u001B[1;32m      2\u001B[0m \u001B[38;5;28;01mfrom\u001B[39;00m \u001B[38;5;21;01mdeep_rlutils\u001B[39;00m\u001B[38;5;21;01m.\u001B[39;00m\u001B[38;5;21;01menv_wrappers\u001B[39;00m \u001B[38;5;28;01mimport\u001B[39;00m DmGymWrapper\n\u001B[0;32m----> 3\u001B[0m env \u001B[38;5;241m=\u001B[39m \u001B[43mfishD\u001B[49m\u001B[38;5;241;43m.\u001B[39;49m\u001B[43mSUITE\u001B[49m\u001B[43m[\u001B[49m\u001B[38;5;124;43m'\u001B[39;49m\u001B[38;5;124;43mswim\u001B[39;49m\u001B[38;5;124;43m'\u001B[39;49m\u001B[43m]\u001B[49m\u001B[43m(\u001B[49m\u001B[43m)\u001B[49m\n",
      "File \u001B[0;32m~/1-THESE/4-sample_code/00-current/mbrl-lib/fish/fish_tasks/fishD.py:52\u001B[0m, in \u001B[0;36mswim\u001B[0;34m(time_limit, random, environment_kwargs)\u001B[0m\n\u001B[1;32m     49\u001B[0m \u001B[38;5;129m@SUITE\u001B[39m\u001B[38;5;241m.\u001B[39madd(\u001B[38;5;124m'\u001B[39m\u001B[38;5;124mbenchmarking\u001B[39m\u001B[38;5;124m'\u001B[39m)\n\u001B[1;32m     50\u001B[0m \u001B[38;5;28;01mdef\u001B[39;00m \u001B[38;5;21mswim\u001B[39m(time_limit\u001B[38;5;241m=\u001B[39m_DEFAULT_TIME_LIMIT, random\u001B[38;5;241m=\u001B[39m\u001B[38;5;28;01mNone\u001B[39;00m, environment_kwargs\u001B[38;5;241m=\u001B[39m\u001B[38;5;28;01mNone\u001B[39;00m):\n\u001B[1;32m     51\u001B[0m   \u001B[38;5;124;03m\"\"\"Returns the Fish Swim task.\"\"\"\u001B[39;00m\n\u001B[0;32m---> 52\u001B[0m   physics \u001B[38;5;241m=\u001B[39m Physics\u001B[38;5;241m.\u001B[39mfrom_xml_string(\u001B[38;5;241m*\u001B[39m\u001B[43mget_model_and_assets\u001B[49m\u001B[43m(\u001B[49m\u001B[43m)\u001B[49m)\n\u001B[1;32m     53\u001B[0m   task \u001B[38;5;241m=\u001B[39m Swim(random\u001B[38;5;241m=\u001B[39mrandom)\n\u001B[1;32m     54\u001B[0m   environment_kwargs \u001B[38;5;241m=\u001B[39m environment_kwargs \u001B[38;5;129;01mor\u001B[39;00m {}\n",
      "File \u001B[0;32m~/1-THESE/4-sample_code/00-current/mbrl-lib/fish/fish_tasks/fishD.py:45\u001B[0m, in \u001B[0;36mget_model_and_assets\u001B[0;34m()\u001B[0m\n\u001B[1;32m     43\u001B[0m   \"\"\"Returns a tuple containing the model XML string and a dict of assets.\"\"\"\n\u001B[1;32m     44\u001B[0m   return common.read_model(os.path.join(os.path.abspath('./'),'/fishD.xml')), common.ASSETS\n\u001B[0;32m---> 45\u001B[0m   # return common.read_model(os.path.join(os.path.abspath('./'),'fish/fish_tasks/fishD.xml')), common.ASSETS\n\u001B[1;32m     46\u001B[0m   # return common.read_model(sys.a'fishD.xml'), common.ASSETS\n\u001B[1;32m     49\u001B[0m @SUITE.add('benchmarking')\n\u001B[1;32m     50\u001B[0m def swim(time_limit=_DEFAULT_TIME_LIMIT, random=None, environment_kwargs=None):\n\u001B[1;32m     51\u001B[0m   \"\"\"Returns the Fish Swim task.\"\"\"\n",
      "File \u001B[0;32m~/anaconda3/envs/mbrl/lib/python3.8/site-packages/dm_control/suite/common/__init__.py:34\u001B[0m, in \u001B[0;36mread_model\u001B[0;34m(model_filename)\u001B[0m\n\u001B[1;32m     32\u001B[0m \u001B[38;5;28;01mdef\u001B[39;00m \u001B[38;5;21mread_model\u001B[39m(model_filename):\n\u001B[1;32m     33\u001B[0m   \u001B[38;5;124;03m\"\"\"Reads a model XML file and returns its contents as a string.\"\"\"\u001B[39;00m\n\u001B[0;32m---> 34\u001B[0m   \u001B[38;5;28;01mreturn\u001B[39;00m \u001B[43mresources\u001B[49m\u001B[38;5;241;43m.\u001B[39;49m\u001B[43mGetResource\u001B[49m\u001B[43m(\u001B[49m\u001B[43mos\u001B[49m\u001B[38;5;241;43m.\u001B[39;49m\u001B[43mpath\u001B[49m\u001B[38;5;241;43m.\u001B[39;49m\u001B[43mjoin\u001B[49m\u001B[43m(\u001B[49m\u001B[43m_SUITE_DIR\u001B[49m\u001B[43m,\u001B[49m\u001B[43m \u001B[49m\u001B[43mmodel_filename\u001B[49m\u001B[43m)\u001B[49m\u001B[43m)\u001B[49m\n",
      "File \u001B[0;32m~/anaconda3/envs/mbrl/lib/python3.8/site-packages/dm_control/utils/io.py:22\u001B[0m, in \u001B[0;36mGetResource\u001B[0;34m(name, mode)\u001B[0m\n\u001B[1;32m     21\u001B[0m \u001B[38;5;28;01mdef\u001B[39;00m \u001B[38;5;21mGetResource\u001B[39m(name, mode\u001B[38;5;241m=\u001B[39m\u001B[38;5;124m'\u001B[39m\u001B[38;5;124mrb\u001B[39m\u001B[38;5;124m'\u001B[39m):\n\u001B[0;32m---> 22\u001B[0m   \u001B[38;5;28;01mwith\u001B[39;00m \u001B[38;5;28;43mopen\u001B[39;49m\u001B[43m(\u001B[49m\u001B[43mname\u001B[49m\u001B[43m,\u001B[49m\u001B[43m \u001B[49m\u001B[43mmode\u001B[49m\u001B[38;5;241;43m=\u001B[39;49m\u001B[43mmode\u001B[49m\u001B[43m)\u001B[49m \u001B[38;5;28;01mas\u001B[39;00m f:\n\u001B[1;32m     23\u001B[0m     \u001B[38;5;28;01mreturn\u001B[39;00m f\u001B[38;5;241m.\u001B[39mread()\n",
      "\u001B[0;31mFileNotFoundError\u001B[0m: [Errno 2] No such file or directory: '/home/sardor/1-THESE/4-sample_code/00-current/mbrl-lib/fish/fish_tasks/fish/fish_tasks/fishD.xml'"
     ]
    }
   ],
   "source": [
    "import fishD\n",
    "from deep_rlutils.env_wrappers import DmGymWrapper\n",
    "env = fishD.SUITE['swim']()"
   ],
   "metadata": {
    "collapsed": false,
    "pycharm": {
     "name": "#%%\n"
    }
   }
  },
  {
   "cell_type": "code",
   "execution_count": null,
   "outputs": [],
   "source": [
    "max_frame = 500\n",
    "period = 30\n",
    "num_periods=5\n",
    "time_steps=[]\n",
    "width = 480\n",
    "height = 480\n",
    "fps = 50\n",
    "video_file = f'sample_policy_fish.mp4'\n",
    "out = cv2.VideoWriter(video_file, cv2.VideoWriter_fourcc(*'mp4v'), fps, (width*2,height))\n",
    "# Step through an episode and print out reward, discount and observation.\n",
    "\n",
    "action_spec = env.action_spec()\n",
    "time_step = env.reset()\n",
    "time_steps.append(time_step)\n",
    "# while not time_step.last():\n",
    "# for i in range(max_frame):\n",
    "for _ in range(period):\n",
    "    action = np.random.uniform(action_spec.minimum, action_spec.maximum, size=action_spec.shape)\n",
    "    # action[0] = -1.0\n",
    "    time_step = env.step(action)\n",
    "    out.write(np.hstack([env.physics.render(height, width, camera_id=0), env.physics.render(height, width, camera_id=1)]))\n",
    "    time_steps.append(time_step)\n",
    "for i in range(num_periods):\n",
    "    for _ in range(period):\n",
    "        action = np.random.uniform(action_spec.minimum, action_spec.maximum, size=action_spec.shape)\n",
    "        # action[0]=1.0\n",
    "        time_step = env.step(action)\n",
    "        time_steps.append(time_step)\n",
    "        out.write(np.hstack([env.physics.render(height, width, camera_id=0),env.physics.render(height, width, camera_id=1)]))\n",
    "    for _ in range(period):\n",
    "        # action = np.random.uniform(action_spec.minimum, action_spec.maximum, size=action_spec.shape)\n",
    "        action[0] = -1.0\n",
    "        time_step = env.step(action)\n",
    "        time_steps.append(time_step)\n",
    "        out.write(np.hstack([env.physics.render(height, width, camera_id=0),env.physics.render(height, width, camera_id=1)]))\n",
    "out.release()\n",
    "\n",
    "\n",
    "vid=Video(video_file)\n",
    "# Video(\"test.mp4\", embed=True)"
   ],
   "metadata": {
    "collapsed": false,
    "pycharm": {
     "name": "#%%\n"
    }
   }
  },
  {
   "cell_type": "code",
   "execution_count": null,
   "outputs": [],
   "source": [
    "vid"
   ],
   "metadata": {
    "collapsed": false,
    "pycharm": {
     "name": "#%%\n"
    }
   }
  },
  {
   "cell_type": "code",
   "execution_count": null,
   "outputs": [],
   "source": [
    "rews=[timestep.reward for timestep in time_steps]\n",
    "plt.plot(rews)\n",
    "plt.show()"
   ],
   "metadata": {
    "collapsed": false,
    "pycharm": {
     "name": "#%%\n"
    }
   }
  },
  {
   "cell_type": "code",
   "execution_count": null,
   "outputs": [],
   "source": [
    "time_steps[0]"
   ],
   "metadata": {
    "collapsed": false,
    "pycharm": {
     "name": "#%%\n"
    }
   }
  },
  {
   "cell_type": "code",
   "execution_count": null,
   "outputs": [],
   "source": [],
   "metadata": {
    "collapsed": false,
    "pycharm": {
     "name": "#%%\n"
    }
   }
  }
 ],
 "metadata": {
  "kernelspec": {
   "display_name": "Python 3",
   "language": "python",
   "name": "python3"
  },
  "language_info": {
   "codemirror_mode": {
    "name": "ipython",
    "version": 2
   },
   "file_extension": ".py",
   "mimetype": "text/x-python",
   "name": "python",
   "nbconvert_exporter": "python",
   "pygments_lexer": "ipython2",
   "version": "2.7.6"
  }
 },
 "nbformat": 4,
 "nbformat_minor": 0
}