{
 "cells": [
  {
   "cell_type": "code",
   "execution_count": 8,
   "metadata": {},
   "outputs": [
    {
     "name": "stdout",
     "output_type": "stream",
     "text": [
      "/home/sardor/.mujoco/mujoco210/bin\n",
      "/usr/lib/nvidia\n",
      "Import error. Trying to rebuild mujoco_py.\n",
      "Compiling /home/sardor/.mujoco/mujoco-py/mujoco_py/cymj.pyx because it depends on /home/sardor/anaconda3/envs/drqv2/lib/python3.8/site-packages/numpy/__init__.pxd.\n",
      "[1/1] Cythonizing /home/sardor/.mujoco/mujoco-py/mujoco_py/cymj.pyx\n",
      "running build_ext\n",
      "building 'mujoco_py.cymj' extension\n",
      "gcc -pthread -B /home/sardor/anaconda3/envs/drqv2/compiler_compat -Wl,--sysroot=/ -Wsign-compare -DNDEBUG -g -fwrapv -O3 -Wall -fPIC -I/home/sardor/.mujoco/mujoco-py/mujoco_py -I/home/sardor/.mujoco/mujoco210/include -I/home/sardor/anaconda3/envs/drqv2/lib/python3.8/site-packages/numpy/core/include -I/home/sardor/.mujoco/mujoco-py/mujoco_py/vendor/egl -I/home/sardor/anaconda3/envs/drqv2/include/python3.8 -c /home/sardor/.mujoco/mujoco-py/mujoco_py/cymj.c -o /home/sardor/.mujoco/mujoco-py/mujoco_py/generated/_pyxbld_2.1.2.14_38_linuxgpuextensionbuilder/temp.linux-x86_64-3.8/home/sardor/.mujoco/mujoco-py/mujoco_py/cymj.o -fopenmp -w\n",
      "gcc -pthread -B /home/sardor/anaconda3/envs/drqv2/compiler_compat -Wl,--sysroot=/ -Wsign-compare -DNDEBUG -g -fwrapv -O3 -Wall -fPIC -I/home/sardor/.mujoco/mujoco-py/mujoco_py -I/home/sardor/.mujoco/mujoco210/include -I/home/sardor/anaconda3/envs/drqv2/lib/python3.8/site-packages/numpy/core/include -I/home/sardor/.mujoco/mujoco-py/mujoco_py/vendor/egl -I/home/sardor/anaconda3/envs/drqv2/include/python3.8 -c /home/sardor/.mujoco/mujoco-py/mujoco_py/gl/eglshim.c -o /home/sardor/.mujoco/mujoco-py/mujoco_py/generated/_pyxbld_2.1.2.14_38_linuxgpuextensionbuilder/temp.linux-x86_64-3.8/home/sardor/.mujoco/mujoco-py/mujoco_py/gl/eglshim.o -fopenmp -w\n",
      "gcc -pthread -shared -B /home/sardor/anaconda3/envs/drqv2/compiler_compat -L/home/sardor/anaconda3/envs/drqv2/lib -Wl,-rpath=/home/sardor/anaconda3/envs/drqv2/lib -Wl,--no-as-needed -Wl,--sysroot=/ /home/sardor/.mujoco/mujoco-py/mujoco_py/generated/_pyxbld_2.1.2.14_38_linuxgpuextensionbuilder/temp.linux-x86_64-3.8/home/sardor/.mujoco/mujoco-py/mujoco_py/cymj.o /home/sardor/.mujoco/mujoco-py/mujoco_py/generated/_pyxbld_2.1.2.14_38_linuxgpuextensionbuilder/temp.linux-x86_64-3.8/home/sardor/.mujoco/mujoco-py/mujoco_py/gl/eglshim.o -L/home/sardor/.mujoco/mujoco210/bin -Wl,-R/home/sardor/.mujoco/mujoco210/bin -lmujoco210 -lglewegl -o /home/sardor/.mujoco/mujoco-py/mujoco_py/generated/_pyxbld_2.1.2.14_38_linuxgpuextensionbuilder/lib.linux-x86_64-3.8/mujoco_py/cymj.cpython-38-x86_64-linux-gnu.so -fopenmp\n"
     ]
    },
    {
     "ename": "ImportError",
     "evalue": "libglewegl.so: cannot open shared object file: No such file or directory",
     "output_type": "error",
     "traceback": [
      "\u001B[0;31m---------------------------------------------------------------------------\u001B[0m",
      "\u001B[0;31mImportError\u001B[0m                               Traceback (most recent call last)",
      "Input \u001B[0;32mIn [8]\u001B[0m, in \u001B[0;36m<cell line: 6>\u001B[0;34m()\u001B[0m\n\u001B[1;32m      4\u001B[0m \u001B[38;5;28;01mimport\u001B[39;00m \u001B[38;5;21;01mnumpy\u001B[39;00m \u001B[38;5;28;01mas\u001B[39;00m \u001B[38;5;21;01mnp\u001B[39;00m\n\u001B[1;32m      5\u001B[0m \u001B[38;5;28;01mfrom\u001B[39;00m \u001B[38;5;21;01mnumpy\u001B[39;00m \u001B[38;5;28;01mimport\u001B[39;00m float64\n\u001B[0;32m----> 6\u001B[0m \u001B[38;5;28;01mfrom\u001B[39;00m \u001B[38;5;21;01mmujoco_py\u001B[39;00m \u001B[38;5;28;01mimport\u001B[39;00m load_model_from_path, MjSim, MjViewer\n\u001B[1;32m      7\u001B[0m \u001B[38;5;28;01mimport\u001B[39;00m \u001B[38;5;21;01mtime\u001B[39;00m\n\u001B[1;32m      8\u001B[0m \u001B[38;5;28;01mfrom\u001B[39;00m \u001B[38;5;21;01mdm_control\u001B[39;00m \u001B[38;5;28;01mimport\u001B[39;00m mujoco\n",
      "File \u001B[0;32m~/.mujoco/mujoco-py/mujoco_py/__init__.py:2\u001B[0m, in \u001B[0;36m<module>\u001B[0;34m\u001B[0m\n\u001B[1;32m      1\u001B[0m \u001B[38;5;66;03m#!/usr/bin/env python\u001B[39;00m\n\u001B[0;32m----> 2\u001B[0m \u001B[38;5;28;01mfrom\u001B[39;00m \u001B[38;5;21;01mmujoco_py\u001B[39;00m\u001B[38;5;21;01m.\u001B[39;00m\u001B[38;5;21;01mbuilder\u001B[39;00m \u001B[38;5;28;01mimport\u001B[39;00m cymj, ignore_mujoco_warnings, functions, MujocoException\n\u001B[1;32m      3\u001B[0m \u001B[38;5;28;01mfrom\u001B[39;00m \u001B[38;5;21;01mmujoco_py\u001B[39;00m\u001B[38;5;21;01m.\u001B[39;00m\u001B[38;5;21;01mgenerated\u001B[39;00m \u001B[38;5;28;01mimport\u001B[39;00m const\n\u001B[1;32m      4\u001B[0m \u001B[38;5;28;01mfrom\u001B[39;00m \u001B[38;5;21;01mmujoco_py\u001B[39;00m\u001B[38;5;21;01m.\u001B[39;00m\u001B[38;5;21;01mmjrenderpool\u001B[39;00m \u001B[38;5;28;01mimport\u001B[39;00m MjRenderPool\n",
      "File \u001B[0;32m~/.mujoco/mujoco-py/mujoco_py/builder.py:505\u001B[0m, in \u001B[0;36m<module>\u001B[0;34m\u001B[0m\n\u001B[1;32m    501\u001B[0m     \u001B[38;5;28;01mreturn\u001B[39;00m module\u001B[38;5;241m.\u001B[39mlib\u001B[38;5;241m.\u001B[39m__fun\n\u001B[1;32m    504\u001B[0m mujoco_path \u001B[38;5;241m=\u001B[39m discover_mujoco()\n\u001B[0;32m--> 505\u001B[0m cymj \u001B[38;5;241m=\u001B[39m \u001B[43mload_cython_ext\u001B[49m\u001B[43m(\u001B[49m\u001B[43mmujoco_path\u001B[49m\u001B[43m)\u001B[49m\n\u001B[1;32m    508\u001B[0m \u001B[38;5;66;03m# Trick to expose all mj* functions from mujoco in mujoco_py.*\u001B[39;00m\n\u001B[1;32m    509\u001B[0m \u001B[38;5;28;01mclass\u001B[39;00m \u001B[38;5;21;01mdict2\u001B[39;00m(\u001B[38;5;28mobject\u001B[39m):\n",
      "File \u001B[0;32m~/.mujoco/mujoco-py/mujoco_py/builder.py:111\u001B[0m, in \u001B[0;36mload_cython_ext\u001B[0;34m(mujoco_path)\u001B[0m\n\u001B[1;32m    109\u001B[0m     \u001B[38;5;28;01mif\u001B[39;00m mod \u001B[38;5;129;01mis\u001B[39;00m \u001B[38;5;28;01mNone\u001B[39;00m:\n\u001B[1;32m    110\u001B[0m         cext_so_path \u001B[38;5;241m=\u001B[39m builder\u001B[38;5;241m.\u001B[39mbuild()\n\u001B[0;32m--> 111\u001B[0m         mod \u001B[38;5;241m=\u001B[39m \u001B[43mload_dynamic_ext\u001B[49m\u001B[43m(\u001B[49m\u001B[38;5;124;43m'\u001B[39;49m\u001B[38;5;124;43mcymj\u001B[39;49m\u001B[38;5;124;43m'\u001B[39;49m\u001B[43m,\u001B[49m\u001B[43m \u001B[49m\u001B[43mcext_so_path\u001B[49m\u001B[43m)\u001B[49m\n\u001B[1;32m    113\u001B[0m \u001B[38;5;28;01mreturn\u001B[39;00m mod\n",
      "File \u001B[0;32m~/.mujoco/mujoco-py/mujoco_py/builder.py:131\u001B[0m, in \u001B[0;36mload_dynamic_ext\u001B[0;34m(name, path)\u001B[0m\n\u001B[1;32m    129\u001B[0m \u001B[38;5;124;03m\"\"\" Load compiled shared object and return as python module. \"\"\"\u001B[39;00m\n\u001B[1;32m    130\u001B[0m loader \u001B[38;5;241m=\u001B[39m ExtensionFileLoader(name, path)\n\u001B[0;32m--> 131\u001B[0m \u001B[38;5;28;01mreturn\u001B[39;00m \u001B[43mloader\u001B[49m\u001B[38;5;241;43m.\u001B[39;49m\u001B[43mload_module\u001B[49m\u001B[43m(\u001B[49m\u001B[43m)\u001B[49m\n",
      "\u001B[0;31mImportError\u001B[0m: libglewegl.so: cannot open shared object file: No such file or directory"
     ]
    }
   ],
   "source": [
    "\n",
    "import mujoco_py\n",
    "import numpy as np\n",
    "from numpy import float64\n",
    "from mujoco_py import load_model_from_path, MjSim, MjViewer\n",
    "import time\n",
    "import mediapy as media\n",
    "print(mujoco_py.__version__)\n",
    "from dm_control import mujoco\n",
    "import PIL.Image\n",
    "physics = mujoco.Physics.from_xml_path('./fishD.xml')\n",
    "pixels = physics.render()\n",
    "PIL.Image.fromarray(pixels)\n",
    "# Load the model from XML file\n",
    "model = mujoco.MjModel.from_xml_path('./fishD.xml')\n",
    "data = mujoco.MjData(model)\n",
    "# Make renderer, render and show the pixels\n",
    "# mujoco.\n",
    "renderer = mujoco.Renderer(model)\n",
    "media.show_image(renderer.render())"
   ]
  },
  {
   "cell_type": "code",
   "execution_count": null,
   "metadata": {},
   "outputs": [],
   "source": []
  }
 ],
 "metadata": {
  "kernelspec": {
   "display_name": "Python 3 (ipykernel)",
   "language": "python",
   "name": "python3"
  },
  "language_info": {
   "codemirror_mode": {
    "name": "ipython",
    "version": 3
   },
   "file_extension": ".py",
   "mimetype": "text/x-python",
   "name": "python",
   "nbconvert_exporter": "python",
   "pygments_lexer": "ipython3",
   "version": "3.8.12"
  }
 },
 "nbformat": 4,
 "nbformat_minor": 1
}
